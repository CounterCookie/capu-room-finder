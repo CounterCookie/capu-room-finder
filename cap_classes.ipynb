{
 "cells": [
  {
   "cell_type": "markdown",
   "id": "437b9f5f-7ebf-4e15-bb77-cb550016e821",
   "metadata": {},
   "source": [
    "Capilano University Unoccupied Room Finder\n",
    "---------------------\n",
    "#### Name: Shayan Heidari\n",
    "This project is a tool to find available(unoccupied) rooms in Capilano University to use as study spaces.\n",
    "\n",
    "### Tools used:\n",
    "* `matplotlib`: Graping the room begin times and end times.\n",
    "* `requests`: Grabbing data from the portal.\n",
    "* Chrome devtools to inspect the network requests which are made while searching for classes.\n",
    "* Visual JSON viewer at [http://jsonviewer.stack.hu](http://jsonviewer.stack.hu/) to make sense of the data we're getting back.\n",
    "\n",
    "\n",
    "This is achieved by using the guest registration portal. Everything is given to the client via XHR so it was very easy to use the portal as sort of a Frankenstein API.\n",
    "\n",
    "The building blocks of this project were formed by staring at chrome devtools while gathering class data.\n",
    "\n",
    "Graphing is simple and it's achieved by using matplot's `vlines`\n",
    "\n",
    "\n",
    "### Credits:\n",
    "* \"Generate timetable using matplotlib\"\n",
    "    * [https://masudakoji.github.io/2015/05/23/generate-timetable-using-matplotlib/en/](https://masudakoji.github.io/2015/05/23/generate-timetable-using-matplotlib/en/)\n",
    "    * by Koji Masuda\n",
    "        * This bit of code was a bit helpful to reflect the x and y ticks. Even though their project was trying to achieve the same thing as me, I simply found it too complicated for this pupose since not much eye candy was required.\n",
    "\n"
   ]
  },
  {
   "cell_type": "markdown",
   "id": "f88aac0c-b8cb-41c2-b64f-9992d337f240",
   "metadata": {},
   "source": [
    "## Data Gathering"
   ]
  },
  {
   "cell_type": "code",
   "execution_count": 1,
   "id": "70aebefb-4d23-4b9d-a6c1-419d311bf4df",
   "metadata": {},
   "outputs": [],
   "source": [
    "import requests, json\n",
    "from pprint import pprint\n",
    "from dataclasses import dataclass\n",
    "import matplotlib.pyplot as plt"
   ]
  },
  {
   "cell_type": "markdown",
   "id": "37b96097-1a67-4bf1-a2d5-375009a16a39",
   "metadata": {},
   "source": [
    "This is used to acquire an http `session` throughout this entire program in order to retain cookies and different session headers. \n",
    "\n",
    "Using sessions is also recommended for better performance and reduces latency in the intiation of each request."
   ]
  },
  {
   "cell_type": "code",
   "execution_count": 2,
   "id": "5f3b1eee-557a-4d57-99f2-7be468291509",
   "metadata": {},
   "outputs": [],
   "source": [
    "session = requests.Session()"
   ]
  },
  {
   "cell_type": "markdown",
   "id": "e481efaf-b9bc-4699-8c80-05339f9b0df1",
   "metadata": {},
   "source": [
    "This hardcoded bit is the sort of cryptic date that refers to Spring of 2023.\n",
    "\n",
    "A better version of this bit would include a list of available terms to look at with their corresponding names and cryptic date.\n",
    "\n",
    "This declaration is extremely important. As can be seen later."
   ]
  },
  {
   "cell_type": "code",
   "execution_count": 3,
   "id": "a5aac026-3994-4229-96d2-ade2024fd597",
   "metadata": {},
   "outputs": [],
   "source": [
    "termData = {'term': '202310'}"
   ]
  },
  {
   "cell_type": "markdown",
   "id": "ea35061a-5c7d-496e-866e-84dbbe2cc626",
   "metadata": {},
   "source": [
    "The term `offset` is the offset from the beginning of the class list.\n",
    "\n",
    "For example, to get the 400th class in a request size of 200, the offset needs to be 200.\n",
    "\n",
    "This is extremely useful to get every single class within a for loop."
   ]
  },
  {
   "cell_type": "code",
   "execution_count": 4,
   "id": "3a087ab4-ab27-4e3c-a5ee-a2340bacdd6f",
   "metadata": {},
   "outputs": [],
   "source": [
    "offset = 0"
   ]
  },
  {
   "cell_type": "markdown",
   "id": "949190f7-e9f2-49a7-b46c-99af9aeb1da3",
   "metadata": {},
   "source": [
    "Hardcoded and has to stay. The backend gives no indication of hitting the request size limit and simply truncates the output with no error.\n",
    "\n",
    "The 200 value is a tested limit. "
   ]
  },
  {
   "cell_type": "code",
   "execution_count": 5,
   "id": "d806c558-2be4-4041-99bf-45156973c5f6",
   "metadata": {},
   "outputs": [],
   "source": [
    "requestSize = 200"
   ]
  },
  {
   "cell_type": "markdown",
   "id": "7a9bfce9-1720-472a-8441-c540b852b559",
   "metadata": {},
   "source": [
    "For some reason, the server only lets our class search come back with full results if we have previously decalred to it, using a post request, what term we're looking for.\n",
    "\n",
    "This \"setting\" on the server is then rememberd by using our `JSESSIONID` in the cookies. This is why it's crucial to use http sessions."
   ]
  },
  {
   "cell_type": "code",
   "execution_count": 6,
   "id": "3792beca-1849-40ea-8c65-334c7145dcb5",
   "metadata": {},
   "outputs": [
    {
     "data": {
      "text/plain": [
       "<Response [200]>"
      ]
     },
     "execution_count": 6,
     "metadata": {},
     "output_type": "execute_result"
    }
   ],
   "source": [
    "session.post('https://ssb9s.capilanou.ca:8443/StudentRegistrationSsb/ssb/term/search?mode=search',\n",
    "             data=termData)"
   ]
  },
  {
   "cell_type": "markdown",
   "id": "91db2d53-abaf-4b25-8028-eacb0e10de45",
   "metadata": {},
   "source": [
    "The URL used to acquire results needs the term we're requesting even though we've set it in the previous code block, page offset and request size which are crucial.\n",
    "\n",
    "Sorting does not matter at all since all the data is structured internally and then graphed."
   ]
  },
  {
   "cell_type": "code",
   "execution_count": 7,
   "id": "bad753a7-460e-4c05-876c-cb25d6edc94a",
   "metadata": {},
   "outputs": [],
   "source": [
    "requestUrl = f\"https://ssb9s.capilanou.ca:8443/StudentRegistrationSsb/ssb/searchResults/searchResults?txt_term={termData['term']}&startDatepicker=&endDatepicker=&pageOffset={offset}&pageMaxSize={requestSize}&sortColumn=subjectDescription&sortDirection=asc\""
   ]
  },
  {
   "cell_type": "markdown",
   "id": "f123c412-3f1f-4d26-8782-3b9e91263222",
   "metadata": {},
   "source": [
    "Simply making a request to the and storing its reponse in an string format, loading it using the json library to a python dictionary so we can work with it."
   ]
  },
  {
   "cell_type": "code",
   "execution_count": 8,
   "id": "4594bd57-c374-4ec0-b596-de56c7e9931b",
   "metadata": {},
   "outputs": [],
   "source": [
    "rawData = session.get(requestUrl).text\n",
    "jsonData = json.loads(rawData)\n"
   ]
  },
  {
   "cell_type": "markdown",
   "id": "602c3188-c811-4483-9edb-de9dd33fcb6b",
   "metadata": {},
   "source": [
    "Only the reponse's `data` portion is useful to us."
   ]
  },
  {
   "cell_type": "code",
   "execution_count": 9,
   "id": "4dc50761-6e5b-4445-af3b-9f5431222814",
   "metadata": {},
   "outputs": [],
   "source": [
    "data = jsonData['data']"
   ]
  },
  {
   "cell_type": "markdown",
   "id": "4afc1c49-79bf-4daf-a2aa-2c3164dc89e7",
   "metadata": {},
   "source": [
    "If the university changes their registration system, this project can still be prototyped using the static data stored in the samples folder.\n",
    "\n",
    "**Only uncomment if the http requests fail** "
   ]
  },
  {
   "cell_type": "code",
   "execution_count": 10,
   "id": "d3f08c7f-f0bf-4da8-b7a7-d3e93939852f",
   "metadata": {},
   "outputs": [],
   "source": [
    "#with open('Data Samples/spring22_200_data', 'r') as f:\n",
    "#    data = json.loads(f.read())['data']"
   ]
  },
  {
   "cell_type": "markdown",
   "id": "1ed94d35-838c-47d6-bf11-5b824c9db1f8",
   "metadata": {},
   "source": [
    "This class was used before realizing the need to use sets instead of sets.\n",
    "\n",
    "Its usage can be seen in previous commits but it's been replaced for now.\n",
    "\n",
    "Still very helpful tho. "
   ]
  },
  {
   "cell_type": "code",
   "execution_count": 11,
   "id": "82c923d9-9404-4784-abf6-329ebc24e68f",
   "metadata": {},
   "outputs": [],
   "source": [
    "@dataclass\n",
    "class Monday:\n",
    "    roomname:str\n",
    "    begintime: int\n",
    "    endtime: int\n",
    "    # test\n",
    "    index: int\n",
    "    # test\n",
    "\n",
    "    @classmethod\n",
    "    def room(cls, data, num):\n",
    "        roomname = data['buildingDescription'] + data['room']\n",
    "        begintime = data['beginTime']\n",
    "        endtime = data['endTime']\n",
    "        #test\n",
    "        index = num\n",
    "        #test\n",
    "\n",
    "        return Monday(roomname, begintime, endtime, index)"
   ]
  },
  {
   "cell_type": "markdown",
   "id": "f72ca9fb-4e89-4ab8-83c0-bdbdf76e915b",
   "metadata": {},
   "source": [
    "Function to develop a valid list of rooms with classes taking place on Monday.\n",
    "\n",
    "The valid entries in the data would have to follow these conditions:\n",
    "* The `meetingsFaculty` should not be empty, since such entry would be an asynchronous online class.\n",
    "* the `building` entry inside `meetingsFaculty` should also not be empty and even if it's non empty, it should not be an `ON` or online class. since those are synchronous online classes. \n",
    "\n",
    "The long list comprehension was my solution to easily filter without many if consi\n",
    "\n",
    "This compiles a set of classes which is a list of classes, nonrepeating. Crucial to making the graph happen the way I thought of it.\n",
    "\n",
    "\n",
    "\n",
    "\n",
    "### Attention:\n",
    "Even though the data is filtered properly here, the dataset still contains small inaccuracies. Some observed inaccuracies were for example, the `building` entry being called \"off campus\" instead of `ON` or \"online\". "
   ]
  },
  {
   "cell_type": "code",
   "execution_count": 12,
   "id": "495378d4-5ee3-4e32-b96a-0b878464a1aa",
   "metadata": {},
   "outputs": [],
   "source": [
    "def roomSearch(data):\n",
    "    c = 0\n",
    "    \n",
    "    monday = []\n",
    "    \n",
    "    roomList = set() # unique room Names. we can tolerate some inaccuracies.\n",
    "    \n",
    "    for i in data:\n",
    "    #    print(c)\n",
    "        if (len(i['meetingsFaculty']) != 0) and (len([e for e in [d for d in i['meetingsFaculty']]]) != 0):\n",
    "            for f in i['meetingsFaculty']:\n",
    "                if (f['meetingTime']['building'] != None) and (f['meetingTime']['building'] != \"ON\") :\n",
    "                    section = f['meetingTime']\n",
    "                    roomname = (section['buildingDescription'] + section['room'])\n",
    "                    #print(roomname)\n",
    "                    \n",
    "                    # Hardcoded for now just to test the program.\n",
    "                    if section['monday'] == True:\n",
    "                        #monday.append(Monday.room(section, c))\n",
    "                        roomList.add(roomname)\n",
    "                        \n",
    "    \n",
    "    \n",
    "        # For debugging purposes\n",
    "        c += 1\n",
    "    #print(monday)\n",
    "    #return monday\n",
    "    return list(roomList)\n"
   ]
  },
  {
   "cell_type": "markdown",
   "id": "c922008f-dd37-4d4d-84e4-9b43c0a96487",
   "metadata": {},
   "source": [
    "This function is almost the exact same as above but finds the nonrepeating rooms in the dataset and adds a tuple of begin and endtimes to the array within the `roomNHours` dictionary.\n",
    "\n",
    "This is just to make the data very easy to graph with little code. Given, this is not a perfect solution.\n",
    "\n",
    "The roomname is currently the full building name just to confirm the program for now. The shortened names such as BR for Birch will be implemented later."
   ]
  },
  {
   "cell_type": "code",
   "execution_count": 13,
   "id": "35a1b7d1-e39e-4bc7-b166-fb7ec1b47e51",
   "metadata": {},
   "outputs": [],
   "source": [
    "def hourFind(rooms, data):\n",
    "    c = 0\n",
    "    roomNHours = {}\n",
    "    \n",
    "    for room in rooms:\n",
    "        roomNHours[room] = [] # initiate the empty list to be filled with tuples\n",
    "        \n",
    "    for i in data:\n",
    "    #    print(c)\n",
    "        for room in rooms:\n",
    "            if (len(i['meetingsFaculty']) != 0) and (len([e for e in [d for d in i['meetingsFaculty']]]) != 0):\n",
    "                for f in i['meetingsFaculty']:\n",
    "                    if (f['meetingTime']['building'] != None) and (f['meetingTime']['building'] != \"ON\") :\n",
    "                        section = f['meetingTime']\n",
    "                        roomname = (section['buildingDescription'] + section['room'])\n",
    "                        #print(roomname)\n",
    "                        if (section['buildingDescription'] + section['room']) == room:\n",
    "                            #monday.append(Monday.room(section, c))\n",
    "                            # Simple math to convert hour:min to floating point to make it\n",
    "                            # suitable for graphing\n",
    "                            beginTime = int( section[\"beginTime\"][:2] ) + (int( section[\"beginTime\"][-2:] ) * 100 / 60) / 100\n",
    "                            endTime = int( section[\"endTime\"][:2] ) + (int( section[\"endTime\"][-2:] ) * 100 / 60) / 100\n",
    "                            roomNHours[room].append( (beginTime, endTime) )\n",
    "                        \n",
    "    \n",
    "    \n",
    "    \n",
    "        c += 1\n",
    "    #print(monday)\n",
    "    #return monday\n",
    "    return roomNHours\n"
   ]
  },
  {
   "cell_type": "markdown",
   "id": "093102b3-2866-4913-ad3d-4fc0df5f7406",
   "metadata": {},
   "source": [
    "For now, I know that the list of classes has only about 2000 entries but this data is provided to us in the first request. That's what also makes the browser experience possible.\n",
    "\n",
    "This is a more compact version of the request explained above. This is a prototype for now."
   ]
  },
  {
   "cell_type": "code",
   "execution_count": 14,
   "id": "1cf0862f-29fd-4d6a-b0d3-e1b696bfd1ba",
   "metadata": {},
   "outputs": [
    {
     "name": "stdout",
     "output_type": "stream",
     "text": [
      "{'Arbutus001': [(10.5, 12.333333333333334),\n",
      "                (9.5, 11.333333333333334),\n",
      "                (13.5, 15.333333333333334),\n",
      "                (13.5, 15.333333333333334),\n",
      "                (15.5, 17.333333333333332),\n",
      "                (15.0, 16.833333333333332)],\n",
      " 'Arbutus117': [(13.5, 15.333333333333334),\n",
      "                (13.0, 14.833333333333334),\n",
      "                (15.5, 17.333333333333332),\n",
      "                (15.5, 17.333333333333332),\n",
      "                (10.5, 12.333333333333334),\n",
      "                (10.5, 12.333333333333334),\n",
      "                (10.5, 12.333333333333334)],\n",
      " 'Arbutus209': [(9.5, 13.333333333333334),\n",
      "                (10.0, 13.833333333333334),\n",
      "                (10.0, 13.833333333333334),\n",
      "                (11.0, 12.833333333333334),\n",
      "                (13.5, 15.333333333333334)],\n",
      " 'Arbutus304': [(14.5, 17.333333333333332),\n",
      "                (11.5, 14.333333333333334),\n",
      "                (11.5, 14.333333333333334)],\n",
      " 'Arbutus315': [(13.0, 14.333333333333334),\n",
      "                (8.5, 9.833333333333334),\n",
      "                (11.5, 12.833333333333334)],\n",
      " 'Birch002': [(10.5, 12.333333333333334),\n",
      "              (8.5, 10.333333333333334),\n",
      "              (13.5, 17.333333333333332),\n",
      "              (15.0, 16.833333333333332),\n",
      "              (9.5, 11.333333333333334),\n",
      "              (13.0, 14.833333333333334),\n",
      "              (9.5, 11.333333333333334),\n",
      "              (13.0, 14.833333333333334),\n",
      "              (13.5, 17.333333333333332),\n",
      "              (13.5, 17.333333333333332)],\n",
      " 'Birch166': [(8.5, 9.833333333333334),\n",
      "              (10.0, 11.333333333333334),\n",
      "              (13.0, 14.333333333333334)],\n",
      " 'Birch203': [(14.5, 15.833333333333334),\n",
      "              (8.5, 9.833333333333334),\n",
      "              (11.5, 12.833333333333334)],\n",
      " 'Birch205': [(16.0, 17.333333333333332), (8.5, 9.833333333333334)],\n",
      " 'Birch265': [(8.5, 9.833333333333334),\n",
      "              (10.0, 11.333333333333334),\n",
      "              (14.5, 15.833333333333334),\n",
      "              (8.5, 11.333333333333334)],\n",
      " 'Birch321': [(8.5, 9.833333333333334)],\n",
      " 'Birch322': [(8.5, 11.333333333333334)],\n",
      " 'Cedar122': [(10.0, 11.333333333333334),\n",
      "              (13.0, 14.333333333333334),\n",
      "              (8.5, 9.833333333333334)],\n",
      " 'Cedar225': [(13.0, 15.833333333333334),\n",
      "              (13.0, 15.833333333333334),\n",
      "              (13.0, 15.833333333333334),\n",
      "              (13.0, 15.833333333333334),\n",
      "              (8.5, 9.833333333333334),\n",
      "              (16.0, 17.333333333333332)],\n",
      " 'Cedar231': [(14.5, 15.833333333333334),\n",
      "              (8.5, 9.833333333333334),\n",
      "              (11.5, 12.833333333333334),\n",
      "              (8.5, 11.333333333333334),\n",
      "              (13.0, 15.833333333333334),\n",
      "              (11.5, 14.333333333333334),\n",
      "              (10.0, 11.333333333333334),\n",
      "              (8.5, 9.833333333333334),\n",
      "              (14.5, 17.333333333333332)],\n",
      " 'Dogwood112': [(8.5, 11.333333333333334),\n",
      "                (8.5, 11.333333333333334),\n",
      "                (8.5, 11.333333333333334),\n",
      "                (8.5, 11.333333333333334),\n",
      "                (13.5, 17.333333333333332),\n",
      "                (8.5, 12.333333333333334),\n",
      "                (10.5, 12.333333333333334),\n",
      "                (8.5, 10.333333333333334),\n",
      "                (13.5, 15.333333333333334),\n",
      "                (13.0, 14.833333333333334),\n",
      "                (13.5, 16.333333333333332),\n",
      "                (9.5, 12.333333333333334)],\n",
      " 'Dogwood117': [(13.0, 14.833333333333334),\n",
      "                (15.0, 16.833333333333332),\n",
      "                (13.0, 14.833333333333334),\n",
      "                (15.0, 16.833333333333332),\n",
      "                (9.5, 12.333333333333334),\n",
      "                (9.5, 12.333333333333334)],\n",
      " 'Dogwood118': [(15.0, 16.833333333333332),\n",
      "                (15.0, 16.833333333333332),\n",
      "                (8.5, 10.333333333333334)],\n",
      " 'Fir206': [(8.5, 11.333333333333334), (14.5, 17.333333333333332)],\n",
      " 'Fir210': [(16.0, 17.333333333333332),\n",
      "            (8.5, 11.333333333333334),\n",
      "            (8.5, 11.333333333333334)],\n",
      " 'Fir213': [(14.5, 15.833333333333334)],\n",
      " 'Fir301': [(16.0, 18.833333333333332),\n",
      "            (8.5, 11.333333333333334),\n",
      "            (13.0, 15.833333333333334),\n",
      "            (13.0, 15.833333333333334),\n",
      "            (10.0, 12.833333333333334),\n",
      "            (13.0, 15.833333333333334)],\n",
      " 'Fir303': [(10.0, 12.833333333333334),\n",
      "            (8.5, 11.333333333333334),\n",
      "            (13.0, 15.833333333333334),\n",
      "            (10.0, 12.833333333333334),\n",
      "            (14.5, 17.333333333333332),\n",
      "            (10.0, 12.833333333333334)],\n",
      " 'Fir309': [(13.0, 15.833333333333334),\n",
      "            (13.0, 15.833333333333334),\n",
      "            (10.0, 12.833333333333334),\n",
      "            (8.5, 11.333333333333334),\n",
      "            (13.0, 15.833333333333334),\n",
      "            (10.0, 12.833333333333334),\n",
      "            (17.5, 20.333333333333332)],\n",
      " 'Fir503': [(16.0, 17.333333333333332),\n",
      "            (18.0, 20.833333333333332),\n",
      "            (14.5, 15.833333333333334)],\n",
      " 'Library215': [(8.5, 11.333333333333334),\n",
      "                (13.0, 15.833333333333334),\n",
      "                (13.0, 15.833333333333334),\n",
      "                (13.0, 15.833333333333334),\n",
      "                (8.5, 11.333333333333334),\n",
      "                (14.5, 17.333333333333332)],\n",
      " 'Library217': [(10.0, 11.333333333333334), (8.5, 9.833333333333334)],\n",
      " 'Library302': [(10.0, 11.333333333333334), (13.0, 14.333333333333334)],\n",
      " 'Library317': [(18.0, 20.833333333333332), (11.5, 14.333333333333334)],\n",
      " 'Nat &amp; Flora Bosa Centre317': [(9.5, 11.333333333333334),\n",
      "                                    (9.5, 13.333333333333334),\n",
      "                                    (13.0, 14.833333333333334),\n",
      "                                    (9.5, 11.333333333333334),\n",
      "                                    (13.0, 14.833333333333334),\n",
      "                                    (13.5, 17.333333333333332),\n",
      "                                    (9.5, 12.333333333333334),\n",
      "                                    (10.5, 12.333333333333334)],\n",
      " 'Nat &amp; Flora Bosa Centre339': [(8.0, 11.833333333333334),\n",
      "                                    (10.0, 13.833333333333334),\n",
      "                                    (13.0, 16.833333333333332),\n",
      "                                    (8.5, 10.333333333333334),\n",
      "                                    (11.0, 12.833333333333334)],\n",
      " 'Shipyards208': [(12.5, 14.333333333333334), (10.0, 11.333333333333334)],\n",
      " 'Shipyards222A': [(10.0, 11.833333333333334),\n",
      "                   (12.0, 13.333333333333334),\n",
      "                   (14.0, 15.333333333333334)],\n",
      " 'Shipyards222B': [(10.0, 11.833333333333334),\n",
      "                   (12.0, 13.333333333333334),\n",
      "                   (14.0, 15.333333333333334)],\n",
      " 'Willow104': [(9.0, 11.833333333333334)]}\n"
     ]
    }
   ],
   "source": [
    "#roomData = roomSearch(data)\n",
    "for i in range(1):\n",
    "    requestUrl = f\"https://ssb9s.capilanou.ca:8443/StudentRegistrationSsb/ssb/searchResults/searchResults?txt_term={termData['term']}&startDatepicker=&endDatepicker=&pageOffset={offset}&pageMaxSize={requestSize}&sortColumn=subjectDescription&sortDirection=asc\"\n",
    "    data = json.loads(session.get(requestUrl).text)['data']\n",
    "    hours = hourFind( roomSearch( data ), data )\n",
    "    pprint(hours)\n",
    "    offset += 200"
   ]
  },
  {
   "cell_type": "markdown",
   "id": "e6bff6ac-6f93-44b1-b0f1-ed0103baeee6",
   "metadata": {},
   "source": [
    "## Graphing"
   ]
  },
  {
   "cell_type": "markdown",
   "id": "2587be56-77c4-4e4d-9c1c-a9b6ab326250",
   "metadata": {},
   "source": [
    "Set the plot size to 50 by 10, However, for actual graphing of the entire Monday classes. This needs to be set dynamically depending on the room size. "
   ]
  },
  {
   "cell_type": "markdown",
   "id": "e3d656b8-2cff-444f-ab08-ca09d900ef5f",
   "metadata": {},
   "source": [
    "Set font to 8, doesn't need to be set dynamically."
   ]
  },
  {
   "cell_type": "markdown",
   "id": "a9ca3fe1-c5a1-4bc9-80b8-b466606911bd",
   "metadata": {},
   "source": [
    "Enable y axis grids to make hours readable."
   ]
  },
  {
   "cell_type": "markdown",
   "id": "6611de8e-0ccc-46b0-b8ea-33a7ac145473",
   "metadata": {},
   "source": [
    "A one-time operation to set the x ticks so that there's room and entries on the graph for every room."
   ]
  },
  {
   "cell_type": "markdown",
   "id": "21e89965-60e6-4a07-9b68-8df9ddca62cd",
   "metadata": {},
   "source": [
    "Set the xtick labels to room names. The main part."
   ]
  },
  {
   "cell_type": "markdown",
   "id": "6b995476-3b49-4c54-996e-bccad7039772",
   "metadata": {},
   "source": [
    "Mirror the X and Y labels so that it's easier to look at the graph. A better revision is needed to divide the graph into subplots for easier viewing. 10 classes on each plot. To be added."
   ]
  },
  {
   "cell_type": "markdown",
   "id": "8fba3ca6-b9ba-44f7-adc2-0d60df837ee1",
   "metadata": {},
   "source": [
    "Iterate over and plot every dictionary entry"
   ]
  },
  {
   "cell_type": "markdown",
   "id": "e55a2e81-cfb5-46d5-aeb4-a3bd08fa722f",
   "metadata": {},
   "source": [
    "Save the plot into A pdf file for practical viewing. The file is written to the relative current directory."
   ]
  },
  {
   "cell_type": "code",
   "execution_count": 15,
   "id": "46c54e57-0c63-4ed3-8ddf-b633606c1596",
   "metadata": {},
   "outputs": [
    {
     "data": {
      "image/png": "[encoded data removed]",
      "text/plain": [
       "<Figure size 5000x1000 with 3 Axes>"
      ]
     },
     "metadata": {},
     "output_type": "display_data"
    }
   ],
   "source": [
    "fig, ax = plt.subplots(figsize=(50, 10))\n",
    "\n",
    "plt.rc('font', size=8)\n",
    "\n",
    "ax.yaxis.grid()\n",
    "ax.set_xticks( [i for i in range(1, len(hours)+1 )] )\n",
    "ax.set_xticklabels( list(hours.keys()) )\n",
    "ax.set_ylabel('Time')\n",
    "\n",
    "\n",
    "'''\n",
    "***************************************************************************************/\n",
    "*    Title: Generate timetable using matplotlib\n",
    "*    Author: Koji Masuda\n",
    "*    Date: 2015\n",
    "*    Availability: https://masudakoji.github.io/2015/05/23/generate-timetable-using-matplotlib/en/\n",
    "*\n",
    "***************************************************************************************/\n",
    "'''\n",
    "ax2=ax.twiny().twinx()\n",
    "ax2.set_xticks(ax.get_xticks())\n",
    "ax2.set_xticklabels( list(hours.keys()) )\n",
    "ax2.set_ylabel('Time')\n",
    "'''\n",
    "End of citation\n",
    "'''\n",
    "\n",
    "\n",
    "pos = 1\n",
    "for h in hours:\n",
    "    for t in hours[h]:\n",
    "        ax.vlines( pos, t[0], t[1], linewidth=5)\n",
    "    pos += 1\n",
    "    \n",
    "    \n",
    "    \n",
    "plt.savefig(\"First 200 results test plot 26 feb.pdf\")"
   ]
  }
 ],
 "metadata": {
  "kernelspec": {
   "display_name": "Python 3 (ipykernel)",
   "language": "python",
   "name": "python3"
  },
  "language_info": {
   "codemirror_mode": {
    "name": "ipython",
    "version": 3
   },
   "file_extension": ".py",
   "mimetype": "text/x-python",
   "name": "python",
   "nbconvert_exporter": "python",
   "pygments_lexer": "ipython3",
   "version": "3.10.8"
  }
 },
 "nbformat": 4,
 "nbformat_minor": 5
}
